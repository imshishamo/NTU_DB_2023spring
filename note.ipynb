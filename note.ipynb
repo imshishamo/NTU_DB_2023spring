{
 "cells": [
  {
   "cell_type": "code",
   "execution_count": 1,
   "metadata": {
    "metadata": {}
   },
   "outputs": [],
   "source": [
    "import sqlite3\n",
    "\n",
    "con = sqlite3.connect('platform.db')\n"
   ]
  },
  {
   "cell_type": "markdown",
   "metadata": {},
   "source": [
    "import類似C的include\n",
    "\n",
    "SQL是一個資料庫 需要連動資料庫\n",
    "\n",
    "con = sqlite3.connect('platform.db')\n",
    "\n",
    "cursor.execute('PRAGMA foreign_keys = ON') 為了資料庫的foreigh_key設定 即可執行"
   ]
  },
  {
   "cell_type": "code",
   "execution_count": 2,
   "metadata": {
    "metadata": {}
   },
   "outputs": [],
   "source": [
    "import sqlite3\n",
    "\n",
    "con = sqlite3.connect('platform.db')\n",
    "con.execute('PRAGMA foreign_keys = ON')\n",
    "\n",
    "def createTable(): \n",
    "    with con:\n",
    "        cursor=con.cursor() #cursor是一個指標 幫助在資料庫裡面\n",
    "        cursor.execute('PRAGMA foreign_keys = ON')\n",
    "\n",
    "        # buyers\n",
    "        cursor.execute('''CREATE TABLE IF NOT EXISTS buyers (\n",
    "                        id INTEGER PRIMARY KEY AUTOINCREMENT,\n",
    "                        name TEXT NOT NULL CHECK(length(name) <= 32),\n",
    "                        gender TEXT NOT NULL CHECK(length(gender) <= 32),\n",
    "                        age INTEGER,\n",
    "                        phone TEXT UNIQUE NOT NULL CHECK(length(phone) <= 32),\n",
    "                        email TEXT UNIQUE NOT NULL CHECK(length(email) <= 32),\n",
    "                        password TEXT NOT NULL CHECK(length(password) <= 32)\n",
    "        )''')\n",
    "        # sellers\n",
    "        cursor.execute('''CREATE TABLE IF NOT EXISTS sellers (\n",
    "                        id INTEGER PRIMARY KEY AUTOINCREMENT,\n",
    "                        name TEXT NOT NULL CHECK(length(name) <= 32),\n",
    "                        gender TEXT NOT NULL CHECK(length(gender) <= 32),\n",
    "                        age INTEGER,\n",
    "                        phone TEXT UNIQUE NOT NULL CHECK(length(phone) <= 32),\n",
    "                        email TEXT UNIQUE NOT NULL CHECK(length(email) <= 32),\n",
    "                        password TEXT NOT NULL CHECK(length(password) <= 32),\n",
    "                        description TEXT NOT NULL CHECK(length(password) <= 128)\n",
    "        )''')\n",
    "        # properties\n",
    "        # CREATE TABLE IF NOT EXISTS properties 小寫的就是tabel的名字\n",
    "        cursor.execute('''CREATE TABLE IF NOT EXISTS properties ( \n",
    "                        id INTEGER PRIMARY KEY AUTOINCREMENT,\n",
    "                        name TEXT NOT NULL CHECK(length(name) <= 32),\n",
    "                        address TEXT NOT NULL CHECK(length(address) <= 32),\n",
    "                        description TEXT NOT NULL CHECK(length(description) <= 128),\n",
    "                        price INTEGER,\n",
    "                        size INTEGER,\n",
    "                        published_at DATETIME,\n",
    "                        seller_id INTEGER,\n",
    "                        FOREIGN KEY(seller_id) REFERENCES sellers(id)\n",
    "        )''')\n",
    "        # viewings\n",
    "        cursor.execute('''CREATE TABLE IF NOT EXISTS viewings (\n",
    "                        id INTEGER PRIMARY KEY AUTOINCREMENT,\n",
    "                        buyer_id INTEGER,\n",
    "                        property_id INTEGER,\n",
    "                        viewed_at DATETIME,\n",
    "                        rating INTEGER,\n",
    "                        UNIQUE(buyer_id, viewed_at),\n",
    "                        FOREIGN KEY(buyer_id) REFERENCES buyers(id),\n",
    "                        FOREIGN KEY(property_id) REFERENCES properties(id)\n",
    "        )''')\n",
    "    con.commit()\n",
    "\n",
    "\n",
    "createTable()"
   ]
  },
  {
   "cell_type": "markdown",
   "metadata": {},
   "source": [
    "把data丟進去 不用另外打第一行id的原因是前面已經設定了AUTOINCREMENT(自己要加)\n",
    "\n",
    "有很多把資料放到tabel的方法\n",
    "\n",
    "這邊是使用list的方法 值前面要加:(要放進去的項目)\n",
    "\n",
    "cur.execute(\"INSERT OR IGNORE INTO STUDENT (SID, Fname, Lname, Grade, Sex) Values(?, ?, ?, ?, ?)\", (sid, fname, lname, grade, sex))\n",
    "\n",
    "這也是一個方法 其他方法可以打python SQL查詢"
   ]
  },
  {
   "cell_type": "code",
   "execution_count": 3,
   "metadata": {
    "metadata": {}
   },
   "outputs": [],
   "source": [
    "def addData():\n",
    "    buyer_data_list = [\n",
    "        {\"name\": \"Tim\", \"gender\": \"M\", \"age\": 30, \"phone\": \"0987654321\", \"email\": \"tim@ntu.edu.tw\", \"password\": \"abc123\"},\n",
    "        {\"name\": \"Johnson\", \"gender\": \"M\", \"age\": 31, \"phone\": \"0912345678\", \"email\": \"johnson@ntu.edu.tw\", \"password\": \"def456\"},\n",
    "        {\"name\": \"Tina\", \"gender\": \"F\", \"age\": 29, \"phone\": \"0918273645\", \"email\": \"tina@ntu.edu.tw\", \"password\": \"ghi789\"},\n",
    "    ]\n",
    "\n",
    "    seller_data_list = [\n",
    "        {\"name\": \"Tony\", \"gender\": \"M\", \"age\": 35, \"phone\": \"0981726354\", \"email\": \"tony@ntu.edu.tw\", \"password\": \"jkl123\", \"description\": \"Nice\"},\n",
    "        {\"name\": \"Pochuan\", \"gender\": \"M\", \"age\": 33, \"phone\": \"0917823564\", \"email\": \"pochuan@ntu.edu.tw\", \"password\": \"mno456\", \"description\": \"Great\"},\n",
    "    ]\n",
    "\n",
    "    properties_data_list = [\n",
    "        {\"name\": \"Sunny Lake House\", \"address\": \"767 5th Ave, New York, NY 10153\", \"description\": \"A beautiful lake house with 4 bedrooms and a large garden.\", \"price\": 500000, \"size\": 350, \"published_at\": \"2024-02-01 18:00:00\", \"seller_id\": 1 },\n",
    "        {\"name\": \"Downtown Apartment\", \"address\": \"1 E 57th St, New York, NY 10022\", \"description\": \"Modern apartment in the heart of the city, perfect for young professionals.\", \"price\": 300000, \"size\": 85, \"published_at\": \"2024-02-05 12:00:00\", \"seller_id\": 1 },\n",
    "        {\"name\": \"Cozy Cottage\", \"address\": \"6 E 57th St, New York, NY 10022\", \"description\": \"A quaint cottage located in the countryside, ideal for a weekend getaway.\", \"price\": 250000, \"size\": 120, \"published_at\": \"2024-03-03 15:00:00\", \"seller_id\": 2 },\n",
    "        {\"name\": \"Mountain View Loft\", \"address\": \"545 5th Ave, New York, NY 10017\", \"description\": \"A spacious loft with stunning mountain views, featuring an open floor plan and modern amenities.\", \"price\": 400000, \"size\": 250, \"published_at\": \"2024-03-04 09:00:00\", \"seller_id\": 2 }\n",
    "    ]\n",
    "\n",
    "    viewings_data_list = [\n",
    "        {\"buyer_id\": 1, \"property_id\": 1, \"viewed_at\": \"2024-02-05 18:00:00\", \"rating\": 8},\n",
    "        {\"buyer_id\": 2, \"property_id\": 1, \"viewed_at\": \"2024-02-10 12:00:00\", \"rating\": 10},\n",
    "        {\"buyer_id\": 3, \"property_id\": 2, \"viewed_at\": \"2024-03-03 18:00:00\", \"rating\": 7},\n",
    "        {\"buyer_id\": 1, \"property_id\": 3, \"viewed_at\": \"2024-03-05 09:00:00\", \"rating\": 6},\n",
    "        {\"buyer_id\": 2, \"property_id\": 2, \"viewed_at\": \"2024-03-06 12:00:00\", \"rating\": 9},\n",
    "        {\"buyer_id\": 3, \"property_id\": 2, \"viewed_at\": \"2024-03-06 18:00:00\", \"rating\": 8},\n",
    "        {\"buyer_id\": 1, \"property_id\": 3, \"viewed_at\": \"2024-03-07 09:00:00\", \"rating\": 7},\n",
    "        {\"buyer_id\": 2, \"property_id\": 2, \"viewed_at\": \"2024-03-07 12:00:00\", \"rating\": 5},\n",
    "    ]\n",
    "\n",
    "    with con:\n",
    "        cursor = con.cursor()\n",
    "        cursor.executemany(\"INSERT OR IGNORE INTO BUYERS (name, gender, age, phone, email, password) VALUES (:name, :gender, :age, :phone, :email, :password)\", buyer_data_list)\n",
    "        cursor.executemany(\"INSERT OR IGNORE INTO SELLERS (name, gender, age, phone, email, password, description) VALUES (:name, :gender, :age, :phone, :email, :password, :description)\", seller_data_list)\n",
    "        cursor.executemany(\"INSERT INTO PROPERTIES (name, address, description, price, size, published_at, seller_id) VALUES (:name, :address, :description, :price, :size, :published_at, :seller_id)\", properties_data_list)\n",
    "        cursor.executemany(\"INSERT OR IGNORE INTO VIEWINGS (buyer_id, property_id, viewed_at, rating) VALUES (:buyer_id, :property_id, :viewed_at, :rating)\", viewings_data_list)\n",
    "    con.commit()\n",
    "    \n",
    "\n",
    "addData()"
   ]
  },
  {
   "cell_type": "markdown",
   "metadata": {},
   "source": [
    "需要從第二個表格的資料去找第三個表格的資料\n",
    "\n",
    "STEP.1 需要先在第二個表格中找到要的值 語法(TABEL).key1 (TABEL).key2 /*是全選\n",
    "\n",
    "SELECT * FROM SELLERS \n",
    "\n",
    "STEP.2 用到關聯兩個資料庫需使用到inner join ON.....=....\n",
    "\n",
    "INNER JOIN PROPERTIES ON PROPERTIES.seller_id = SELLERS.id\n",
    "\n",
    "STEP.3 WHERE條件=放的值 (WHERE有很多種)\n",
    "\n",
    "WHERE SELLERS.email = \"{}\"'''.format(user)"
   ]
  },
  {
   "cell_type": "code",
   "execution_count": 4,
   "metadata": {
    "metadata": {}
   },
   "outputs": [
    {
     "name": "stdout",
     "output_type": "stream",
     "text": [
      "('Sunny Lake House', '767 5th Ave, New York, NY 10153', 'A beautiful lake house with 4 bedrooms and a large garden.', 500000, 350, '2024-02-01 18:00:00')\n",
      "('Downtown Apartment', '1 E 57th St, New York, NY 10022', 'Modern apartment in the heart of the city, perfect for young professionals.', 300000, 85, '2024-02-05 12:00:00')\n",
      "\n"
     ]
    }
   ],
   "source": [
    "def queryData1():\n",
    "    user = \"tony@ntu.edu.tw\"\n",
    "    with con:\n",
    "        cursor = con.cursor()\n",
    "        cursor.execute('''SELECT PROPERTIES.name,PROPERTIES.address,PROPERTIES.description,PROPERTIES.price,PROPERTIES.size,PROPERTIES.published_at FROM SELLERS\n",
    "        INNER JOIN PROPERTIES ON PROPERTIES.seller_id = SELLERS.id \n",
    "        WHERE SELLERS.email = \"{}\"'''.format(user))\n",
    "        results = cursor.fetchall()\n",
    "        for row in results:\n",
    "            print(row)\n",
    "    print(\"\", end='\\n')\n",
    "    con.commit()\n",
    "\n",
    "queryData1()"
   ]
  },
  {
   "cell_type": "markdown",
   "metadata": {},
   "source": [
    "1.strftime('%m', published_at) 直接取月份 日期的格式化方法 要取甚麼%m....(要取其他的利用-連接)\n",
    "- %Y：年份（四位數）\n",
    "- %m：月份（兩位數，01 到 12）\n",
    "- %d：日期（兩位數，01 到 31）\n",
    "- %H：小時，24 小時制（00 到 23）\n",
    "- %M：分鐘（00 到 59）\n",
    "- %S：秒（00 到 59）\n",
    "- %b：月份的縮寫名稱（Jan、Feb、Mar 等）\n",
    "- %B：月份的完整名稱（January、February、March 等）\n",
    "- %a：星期幾的縮寫名稱（Mon、Tue、Wed 等）\n",
    "- %A：星期幾的完整名稱（Monday、Tuesday、Wednesday 等）\n",
    "\n",
    "2.COUNT(*) 計算總數量\n",
    "\n",
    "3.AS total 把計算完的數量儲存在total這個值"
   ]
  },
  {
   "cell_type": "code",
   "execution_count": 5,
   "metadata": {
    "metadata": {}
   },
   "outputs": [
    {
     "name": "stdout",
     "output_type": "stream",
     "text": [
      "2\n",
      "\n",
      "\n"
     ]
    }
   ],
   "source": [
    "def queryData2():\n",
    "    with con:\n",
    "        cursor = con.cursor()\n",
    "        cursor.execute(\"SELECT COUNT(*) AS total FROM PROPERTIES WHERE strftime('%Y-%m', published_at) = '2024-03' ORDER BY total ASC\")\n",
    "        results = cursor.fetchall()\n",
    "        for row in results:\n",
    "            print(row[0])  \n",
    "    print(\"\", end='\\n')\n",
    "    print(\"\", end='\\n')\n",
    "    con.commit()\n",
    "\n",
    "queryData2()"
   ]
  },
  {
   "cell_type": "markdown",
   "metadata": {},
   "source": [
    "UPDATE修改數值的部分"
   ]
  },
  {
   "cell_type": "code",
   "execution_count": 6,
   "metadata": {
    "metadata": {}
   },
   "outputs": [
    {
     "name": "stdout",
     "output_type": "stream",
     "text": [
      "BEFORE UPDATE\n",
      "(1, 'Tim', 'M', 30, '0987654321', 'tim@ntu.edu.tw', 'abc123')\n",
      "(2, 'Johnson', 'M', 31, '0912345678', 'johnson@ntu.edu.tw', 'def456')\n",
      "(3, 'Tina', 'F', 29, '0918273645', 'tina@ntu.edu.tw', 'ghi789')\n",
      "AFTER UPDATE\n",
      "(1, 'Tim', 'M', 30, '0987654321', 'tim@ntu.edu.tw', 'abc123')\n",
      "(2, 'Johnson Lin', 'M', 31, '0912345678', 'johnson@ntu.edu.tw', 'def456')\n",
      "(3, 'Tina', 'F', 29, '0918273645', 'tina@ntu.edu.tw', 'ghi789')\n",
      "\n",
      "\n"
     ]
    }
   ],
   "source": [
    "def updateData1():\n",
    "    phone = \"0912345678\"\n",
    "\n",
    "    print(\"BEFORE UPDATE\")\n",
    "    with con:\n",
    "        cursor = con.cursor()\n",
    "        cursor.execute(\"SELECT * FROM BUYERS\")\n",
    "        results = cursor.fetchall()\n",
    "        for row in results:\n",
    "            print(row)\n",
    "\n",
    "        print(\"AFTER UPDATE\")\n",
    "        cursor.execute(\"UPDATE BUYERS SET name = 'Johnson Lin' WHERE phone = '{}'\".format(phone))\n",
    "        cursor.execute(\"SELECT * FROM BUYERS\")\n",
    "        results = cursor.fetchall()\n",
    "        for row in results:\n",
    "            print(row)  \n",
    "    print(\"\", end='\\n')\n",
    "    print(\"\", end='\\n')\n",
    "    con.commit()\n",
    "\n",
    "updateData1()   "
   ]
  },
  {
   "cell_type": "markdown",
   "metadata": {},
   "source": [
    "這邊的語法是DELETE FROM (TABEL名稱) WHERE 條件"
   ]
  },
  {
   "cell_type": "code",
   "execution_count": 7,
   "metadata": {},
   "outputs": [
    {
     "name": "stdout",
     "output_type": "stream",
     "text": [
      "BEFORE UPDATE\n",
      "(1, 'Sunny Lake House', '767 5th Ave, New York, NY 10153', 'A beautiful lake house with 4 bedrooms and a large garden.', 500000, 350, '2024-02-01 18:00:00', 1)\n",
      "(2, 'Downtown Apartment', '1 E 57th St, New York, NY 10022', 'Modern apartment in the heart of the city, perfect for young professionals.', 300000, 85, '2024-02-05 12:00:00', 1)\n",
      "(3, 'Cozy Cottage', '6 E 57th St, New York, NY 10022', 'A quaint cottage located in the countryside, ideal for a weekend getaway.', 250000, 120, '2024-03-03 15:00:00', 2)\n",
      "(4, 'Mountain View Loft', '545 5th Ave, New York, NY 10017', 'A spacious loft with stunning mountain views, featuring an open floor plan and modern amenities.', 400000, 250, '2024-03-04 09:00:00', 2)\n",
      "AFTER UPDATE\n",
      "(1, 'Sunny Lake House', '767 5th Ave, New York, NY 10153', 'A beautiful lake house with 4 bedrooms and a large garden.', 500000, 350, '2024-02-01 18:00:00', 1)\n",
      "(2, 'Downtown Apartment', '1 E 57th St, New York, NY 10022', 'Modern apartment in the heart of the city, perfect for young professionals.', 300000, 85, '2024-02-05 12:00:00', 1)\n",
      "(3, 'Cozy Cottage', '6 E 57th St, New York, NY 10022', 'A quaint cottage located in the countryside, ideal for a weekend getaway.', 250000, 120, '2024-03-03 15:00:00', 2)\n",
      "\n",
      "\n"
     ]
    }
   ],
   "source": [
    "def deleteData1():\n",
    "    print(\"BEFORE UPDATE\")\n",
    "    with con:\n",
    "        cursor = con.cursor()\n",
    "        cursor.execute(\"SELECT * FROM PROPERTIES\")\n",
    "        results = cursor.fetchall()\n",
    "        for row in results:\n",
    "            print(row)\n",
    "\n",
    "        print(\"AFTER UPDATE\")\n",
    "        cursor = con.cursor()\n",
    "        cursor.execute(\"DELETE FROM PROPERTIES WHERE id = 4\")\n",
    "        cursor.execute(\"SELECT * FROM PROPERTIES\")\n",
    "        results = cursor.fetchall()\n",
    "        for row in results:\n",
    "            print(row)   \n",
    "    print(\"\", end='\\n')\n",
    "    print(\"\", end='\\n')\n",
    "    con.commit()\n",
    "\n",
    "deleteData1()"
   ]
  },
  {
   "cell_type": "markdown",
   "metadata": {},
   "source": [
    "新增資料跟剛剛第二題add概念類似 請自行參閱 要好好看\n",
    "\n",
    "STEP.1 在看房資料庫底下新增一個資料 有很多筆資料的話用list\n",
    "\n",
    "e.g.viewing = {\"buyer_id\": 3, \"property_id\": 1, \"viewed_at\": \"2024-03-10 18:00:00\", \"rating\": 8}\n",
    "\n",
    "INSERT INTO (tabel名稱) (buyer_id, property_id, viewed_at, rating) VALUES(:buyer_id, :property_id, :viewed_at, :rating)"
   ]
  },
  {
   "cell_type": "code",
   "execution_count": 9,
   "metadata": {},
   "outputs": [
    {
     "name": "stdout",
     "output_type": "stream",
     "text": [
      "BEFORE UPDATE\n",
      "(1, 1, 1, '2024-02-05 18:00:00', 8)\n",
      "(2, 2, 1, '2024-02-10 12:00:00', 10)\n",
      "(3, 3, 2, '2024-03-03 18:00:00', 7)\n",
      "(4, 1, 3, '2024-03-05 09:00:00', 6)\n",
      "(5, 2, 2, '2024-03-06 12:00:00', 9)\n",
      "(6, 3, 2, '2024-03-06 18:00:00', 8)\n",
      "(7, 1, 3, '2024-03-07 09:00:00', 7)\n",
      "(8, 2, 2, '2024-03-07 12:00:00', 5)\n",
      "AFTER UPDATE\n",
      "(1, 1, 1, '2024-02-05 18:00:00', 8)\n",
      "(2, 2, 1, '2024-02-10 12:00:00', 10)\n",
      "(3, 3, 2, '2024-03-03 18:00:00', 7)\n",
      "(4, 1, 3, '2024-03-05 09:00:00', 6)\n",
      "(5, 2, 2, '2024-03-06 12:00:00', 9)\n",
      "(6, 3, 2, '2024-03-06 18:00:00', 8)\n",
      "(7, 1, 3, '2024-03-07 09:00:00', 7)\n",
      "(8, 2, 2, '2024-03-07 12:00:00', 5)\n",
      "(9, 3, 1, '2024-03-10 18:00:00', 8)\n",
      "\n",
      "\n"
     ]
    }
   ],
   "source": [
    "def addNewData():\n",
    "    viewing = {\"buyer_id\": 3, \"property_id\": 1, \"viewed_at\": \"2024-03-10 18:00:00\", \"rating\": 8}\n",
    "    print(\"BEFORE UPDATE\")\n",
    "    with con:\n",
    "        cursor = con.cursor()\n",
    "        cursor.execute(\"SELECT * FROM VIEWINGS\")\n",
    "        results = cursor.fetchall()\n",
    "        for row in results:\n",
    "            print(row)\n",
    "\n",
    "        print(\"AFTER UPDATE\")\n",
    "        cursor = con.cursor()\n",
    "        cursor.execute(\"INSERT INTO VIEWINGS (buyer_id, property_id, viewed_at, rating) VALUES(:buyer_id, :property_id, :viewed_at, :rating)\", viewing) \n",
    "        cursor.execute(\"SELECT * FROM VIEWINGS\")\n",
    "        results = cursor.fetchall()\n",
    "        for row in results:\n",
    "            print(row) \n",
    "    print(\"\", end='\\n')\n",
    "    print(\"\", end='\\n')\n",
    "    con.commit()\n",
    "\n",
    "addNewData()"
   ]
  },
  {
   "cell_type": "markdown",
   "metadata": {},
   "source": [
    "STEP.1 選擇要看查詢的TABEL 並且計算數量(SUM是要算TABEL裡面的值) 要記得設定一個數值給COUNT存取\n",
    "\n",
    "SELECT buyer_id, COUNT (*) AS viewing_total\n",
    "\n",
    "STEP.2 設定WHERE (條件)\n",
    "\n",
    "FROM VIEWINGS WHERE strftime('%Y-%m', viewed_at) = \"2024-03\"\n",
    "\n",
    "STEP.3 GROUP BY 是指要算裡面的數量 分群的意思\n",
    "\n",
    "GROUP BY buyer_id\n",
    "\n",
    "STEP.4 ASC是升冪排列的意思 DESC是降冪\n",
    "\n",
    "ORDER BY viewing_total ASC"
   ]
  },
  {
   "cell_type": "code",
   "execution_count": 10,
   "metadata": {},
   "outputs": [
    {
     "name": "stdout",
     "output_type": "stream",
     "text": [
      "User, Viewing Total\n",
      "(1, 2)\n",
      "(2, 2)\n",
      "(3, 3)\n",
      "\n",
      "\n"
     ]
    }
   ],
   "source": [
    "def queryData3():\n",
    "    with con:\n",
    "        cursor = con.cursor()\n",
    "        cursor.execute('''SELECT buyer_id, COUNT (*) AS viewing_total \n",
    "        FROM VIEWINGS WHERE strftime('%Y-%m', viewed_at) = \"2024-03\" \n",
    "        GROUP BY buyer_id \n",
    "        ORDER BY viewing_total ASC''')\n",
    "        results = cursor.fetchall()\n",
    "        print(\"User, Viewing Total\")\n",
    "        for row in results:\n",
    "            print(row)  \n",
    "    print(\"\", end='\\n')\n",
    "    print(\"\", end='\\n')\n",
    "    con.commit()\n",
    "\n",
    "queryData3()"
   ]
  },
  {
   "cell_type": "markdown",
   "metadata": {},
   "source": [
    "審題 要找總資產額最高的賣家 先找哪一個tabel可以知道賣家的資產額\n",
    "然後要知道總資產額可以使用SUM\n",
    "\n",
    "STEP.1 選擇如何分類不同賣家的項目(這邊分類賣家的項目是seller_id) 並計算其總額(計算總額的項目price要放到括號中) 需要設定存取總資產額的值 這邊設定total_money\n",
    "SELECT seller_id, SUM(price) AS total_money\n",
    "\n",
    "STEP.2 知道賣家資產額的tabel\n",
    "FROM PROPERTIES \n",
    "\n",
    "STEP.3 分類方式是seller_id\n",
    "GROUP BY seller_id \n",
    "\n",
    "STEP.4 降冪排列 \n",
    "ORDER BY total_money DESC"
   ]
  },
  {
   "cell_type": "code",
   "execution_count": 11,
   "metadata": {},
   "outputs": [
    {
     "name": "stdout",
     "output_type": "stream",
     "text": [
      "Max User, Total Money\n",
      "(1, 800000)\n",
      "\n",
      "\n"
     ]
    }
   ],
   "source": [
    "def queryData4():\n",
    "    with con:\n",
    "        cursor = con.cursor()\n",
    "        cursor.execute('''SELECT seller_id, SUM(price) AS total_money \n",
    "        FROM PROPERTIES \n",
    "        GROUP BY seller_id \n",
    "        ORDER BY total_money DESC''')\n",
    "        results = cursor.fetchall()\n",
    "        print(\"Max User, Total Money\") \n",
    "        print(results[0])\n",
    "    print(\"\", end='\\n')\n",
    "    print(\"\", end='\\n')\n",
    "    con.commit()\n",
    "\n",
    "queryData4()"
   ]
  },
  {
   "cell_type": "markdown",
   "metadata": {},
   "source": [
    "審題 找評價>7的房地產 需知道房地產資訊\n",
    "\n",
    "邏輯:我要知道房地產的評價需要到VIEWING資料庫看 而需要知道房地產的名稱需要到PROPERTIES資料庫看 兩個資料庫之間的關聯是ID/properties_id(所以需使用INNER JOIN)\n",
    "\n",
    "STEP.1 輸出需要房地產名稱/平均評價 平均評價的語法AVG(評價分數的項目) 需要設定一個存取平均評價分數的東西\n",
    "SELECT PROPERTIES.name, AVG(rating) AS avg_rating\n",
    "\n",
    "STEP.2 如何知道評價分數的資料庫\n",
    "FROM viewings\n",
    "\n",
    "STEP.3 連接兩個資料庫 INNER JOIN (select from的放前面) = 另外一個放後面\n",
    "INNER JOIN PROPERTIES ON VIEWINGS.property_id = PROPERTIES.id \n",
    "\n",
    "STEP.4 分類的方法(兩者之共通點)\n",
    "GROUP BY property_id\n",
    "\n",
    "STEP.5 條件 平均評價分數>7的話可以輸出\n",
    "HAVING avg_rating > 7"
   ]
  },
  {
   "cell_type": "code",
   "execution_count": 13,
   "metadata": {},
   "outputs": [
    {
     "name": "stdout",
     "output_type": "stream",
     "text": [
      "Properties.name, Average Rating\n",
      "('Sunny Lake House', 8.666666666666666)\n",
      "('Downtown Apartment', 7.25)\n",
      "\n",
      "\n"
     ]
    }
   ],
   "source": [
    "def queryData5():\n",
    "    with con:\n",
    "        cursor = con.cursor()\n",
    "        cursor.execute('''SELECT PROPERTIES.name, AVG(rating) AS avg_rating \n",
    "        FROM viewings \n",
    "        INNER JOIN PROPERTIES ON VIEWINGS.property_id = PROPERTIES.id \n",
    "        GROUP BY property_id \n",
    "        HAVING avg_rating > 7''')\n",
    "        results = cursor.fetchall()\n",
    "        print(\"Properties_name, Average Rating\") \n",
    "        for row in results:\n",
    "            print(row) \n",
    "    print(\"\", end='\\n')\n",
    "    print(\"\", end='\\n')\n",
    "    con.commit()\n",
    "\n",
    "queryData5()"
   ]
  },
  {
   "cell_type": "markdown",
   "metadata": {},
   "source": [
    "審題 需要篩選2024.03房地產ID/知道賣家ID/知道房地產ID\n",
    "會需要連動到三個表格從VIEWINGS資料庫可以知道哪些房地產三月被看\n",
    "- VIEWING和PROPERTIES之間的關聯是properties_id\n",
    "然後從properties_id可以知道seller_id\n",
    "- PROPERTIES和SELLERS之間的關聯是seller_id\n",
    "\n",
    "STEP.1 把需要用到的select起來 按照輸出的順序選取 並計算哪一個被看最多次\n",
    "SELECT PROPERTIES.seller_id, SELLERS.name, COUNT(*) AS view_most\n",
    "\n",
    "STEP.2 FROM最一開始需要選取的資料庫\n",
    "FROM VIEWINGS\n",
    "\n",
    "STEP.3 連接VIEWING和PROPERTIES\n",
    "INNER JOIN PROPERTIES ON PROPERTIES.id = VIEWINGS.property_id\n",
    "\n",
    "STEP.4 連接PROPERTIES和SELLERS\n",
    "*INNER JOIN SELLERS ON PROPERTIES.seller_id = SELLERS.id\n",
    "\n",
    "STEP.5 條件:選取2024.03的\n",
    "WHERE strftime('%Y-%m', viewed_at) = '2024-03' \n",
    "\n",
    "STEP.6 計算被看最多次的分類標準\n",
    "GROUP BY PROPERTIES.seller_id\n",
    "\n",
    "STEP.7 按照降冪排列\n",
    "ORDER BY view_most DESC/"
   ]
  },
  {
   "cell_type": "code",
   "execution_count": 14,
   "metadata": {},
   "outputs": [
    {
     "name": "stdout",
     "output_type": "stream",
     "text": [
      "Seller ID, Seller Name, Viewed Count\n",
      "(1, 'Tony', 5)\n",
      "\n",
      "\n"
     ]
    }
   ],
   "source": [
    "def queryData6():\n",
    "    with con:\n",
    "        cursor = con.cursor()\n",
    "        cursor.execute('''SELECT PROPERTIES.seller_id, SELLERS.name, COUNT(*) AS view_most\n",
    "                       FROM VIEWINGS \n",
    "                       INNER JOIN PROPERTIES ON PROPERTIES.id = VIEWINGS.property_id\n",
    "                       INNER JOIN SELLERS ON PROPERTIES.seller_id = SELLERS.id\n",
    "                       WHERE strftime('%Y-%m', viewed_at) = '2024-03' \n",
    "                       GROUP BY PROPERTIES.seller_id\n",
    "                       ORDER BY view_most DESC\n",
    "        ''')\n",
    "        results = cursor.fetchall()\n",
    "        print(\"Seller ID, Seller Name, Viewed Count\") \n",
    "        print(results[0]) \n",
    "    print(\"\", end='\\n')\n",
    "    print(\"\", end='\\n')\n",
    "    con.commit()\n",
    "\n",
    "queryData6()"
   ]
  }
 ],
 "metadata": {
  "kernelspec": {
   "display_name": "base",
   "language": "python",
   "name": "python3"
  },
  "language_info": {
   "codemirror_mode": {
    "name": "ipython",
    "version": 3
   },
   "file_extension": ".py",
   "mimetype": "text/x-python",
   "name": "python",
   "nbconvert_exporter": "python",
   "pygments_lexer": "ipython3",
   "version": "3.11.4"
  }
 },
 "nbformat": 4,
 "nbformat_minor": 2
}
